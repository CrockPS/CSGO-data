{
  "nbformat": 4,
  "nbformat_minor": 0,
  "metadata": {
    "colab": {
      "name": "CsgoData.ipynb",
      "provenance": [],
      "collapsed_sections": [
        "rTY4Eyd-1Hts",
        "3e3jceXF1PZ3",
        "XzPBE73-0yyX",
        "HrqtF3mO1uaL",
        "ZbY4vrbn1-fj",
        "tKuC1EFmIkFi"
      ],
      "authorship_tag": "ABX9TyNVAPwZNcA/4RK95Yoe/lfS",
      "include_colab_link": true
    },
    "kernelspec": {
      "name": "python3",
      "display_name": "Python 3"
    },
    "language_info": {
      "name": "python"
    }
  },
  "cells": [
    {
      "cell_type": "markdown",
      "metadata": {
        "id": "view-in-github",
        "colab_type": "text"
      },
      "source": [
        "<a href=\"https://colab.research.google.com/github/CrockPS/CSGO-data/blob/main/CsgoData.ipynb\" target=\"_parent\"><img src=\"https://colab.research.google.com/assets/colab-badge.svg\" alt=\"Open In Colab\"/></a>"
      ]
    },
    {
      "cell_type": "markdown",
      "metadata": {
        "id": "rTY4Eyd-1Hts"
      },
      "source": [
        "#Importações"
      ]
    },
    {
      "cell_type": "code",
      "metadata": {
        "id": "7984c1XwUN2L"
      },
      "source": [
        "import pandas as pd\n",
        "import matplotlib.pyplot as plt\n",
        "from sklearn.preprocessing import LabelEncoder\n",
        "from sklearn.model_selection import train_test_split\n",
        "from sklearn import metrics\n",
        "from sklearn.naive_bayes import GaussianNB\n",
        "from sklearn.tree import DecisionTreeClassifier\n",
        "from sklearn import tree\n",
        "import numpy as np"
      ],
      "execution_count": 2,
      "outputs": []
    },
    {
      "cell_type": "markdown",
      "metadata": {
        "id": "3e3jceXF1PZ3"
      },
      "source": [
        "#Realizando toda a configuração inicial da base incluindo divisão para treino e teste"
      ]
    },
    {
      "cell_type": "code",
      "metadata": {
        "id": "5fOUFuW5FeBf"
      },
      "source": [
        "csgo_data = pd.read_csv('/content/csgo_round_snapshots.csv')"
      ],
      "execution_count": 3,
      "outputs": []
    },
    {
      "cell_type": "code",
      "metadata": {
        "colab": {
          "base_uri": "https://localhost:8080/",
          "height": 253
        },
        "id": "1SLjkdDbFrgA",
        "outputId": "67c76ec5-18d2-40e1-a834-b7ec644ed916"
      },
      "source": [
        "csgo_data.head()"
      ],
      "execution_count": 4,
      "outputs": [
        {
          "output_type": "execute_result",
          "data": {
            "text/html": [
              "<div>\n",
              "<style scoped>\n",
              "    .dataframe tbody tr th:only-of-type {\n",
              "        vertical-align: middle;\n",
              "    }\n",
              "\n",
              "    .dataframe tbody tr th {\n",
              "        vertical-align: top;\n",
              "    }\n",
              "\n",
              "    .dataframe thead th {\n",
              "        text-align: right;\n",
              "    }\n",
              "</style>\n",
              "<table border=\"1\" class=\"dataframe\">\n",
              "  <thead>\n",
              "    <tr style=\"text-align: right;\">\n",
              "      <th></th>\n",
              "      <th>time_left</th>\n",
              "      <th>ct_score</th>\n",
              "      <th>t_score</th>\n",
              "      <th>map</th>\n",
              "      <th>bomb_planted</th>\n",
              "      <th>ct_health</th>\n",
              "      <th>t_health</th>\n",
              "      <th>ct_armor</th>\n",
              "      <th>t_armor</th>\n",
              "      <th>ct_money</th>\n",
              "      <th>t_money</th>\n",
              "      <th>ct_helmets</th>\n",
              "      <th>t_helmets</th>\n",
              "      <th>ct_defuse_kits</th>\n",
              "      <th>ct_players_alive</th>\n",
              "      <th>t_players_alive</th>\n",
              "      <th>ct_weapon_ak47</th>\n",
              "      <th>t_weapon_ak47</th>\n",
              "      <th>ct_weapon_aug</th>\n",
              "      <th>t_weapon_aug</th>\n",
              "      <th>ct_weapon_awp</th>\n",
              "      <th>t_weapon_awp</th>\n",
              "      <th>ct_weapon_bizon</th>\n",
              "      <th>t_weapon_bizon</th>\n",
              "      <th>ct_weapon_cz75auto</th>\n",
              "      <th>t_weapon_cz75auto</th>\n",
              "      <th>ct_weapon_elite</th>\n",
              "      <th>t_weapon_elite</th>\n",
              "      <th>ct_weapon_famas</th>\n",
              "      <th>t_weapon_famas</th>\n",
              "      <th>ct_weapon_g3sg1</th>\n",
              "      <th>t_weapon_g3sg1</th>\n",
              "      <th>ct_weapon_galilar</th>\n",
              "      <th>t_weapon_galilar</th>\n",
              "      <th>ct_weapon_glock</th>\n",
              "      <th>t_weapon_glock</th>\n",
              "      <th>ct_weapon_m249</th>\n",
              "      <th>t_weapon_m249</th>\n",
              "      <th>ct_weapon_m4a1s</th>\n",
              "      <th>t_weapon_m4a1s</th>\n",
              "      <th>...</th>\n",
              "      <th>t_weapon_p90</th>\n",
              "      <th>ct_weapon_r8revolver</th>\n",
              "      <th>t_weapon_r8revolver</th>\n",
              "      <th>ct_weapon_sawedoff</th>\n",
              "      <th>t_weapon_sawedoff</th>\n",
              "      <th>ct_weapon_scar20</th>\n",
              "      <th>t_weapon_scar20</th>\n",
              "      <th>ct_weapon_sg553</th>\n",
              "      <th>t_weapon_sg553</th>\n",
              "      <th>ct_weapon_ssg08</th>\n",
              "      <th>t_weapon_ssg08</th>\n",
              "      <th>ct_weapon_ump45</th>\n",
              "      <th>t_weapon_ump45</th>\n",
              "      <th>ct_weapon_xm1014</th>\n",
              "      <th>t_weapon_xm1014</th>\n",
              "      <th>ct_weapon_deagle</th>\n",
              "      <th>t_weapon_deagle</th>\n",
              "      <th>ct_weapon_fiveseven</th>\n",
              "      <th>t_weapon_fiveseven</th>\n",
              "      <th>ct_weapon_usps</th>\n",
              "      <th>t_weapon_usps</th>\n",
              "      <th>ct_weapon_p250</th>\n",
              "      <th>t_weapon_p250</th>\n",
              "      <th>ct_weapon_p2000</th>\n",
              "      <th>t_weapon_p2000</th>\n",
              "      <th>ct_weapon_tec9</th>\n",
              "      <th>t_weapon_tec9</th>\n",
              "      <th>ct_grenade_hegrenade</th>\n",
              "      <th>t_grenade_hegrenade</th>\n",
              "      <th>ct_grenade_flashbang</th>\n",
              "      <th>t_grenade_flashbang</th>\n",
              "      <th>ct_grenade_smokegrenade</th>\n",
              "      <th>t_grenade_smokegrenade</th>\n",
              "      <th>ct_grenade_incendiarygrenade</th>\n",
              "      <th>t_grenade_incendiarygrenade</th>\n",
              "      <th>ct_grenade_molotovgrenade</th>\n",
              "      <th>t_grenade_molotovgrenade</th>\n",
              "      <th>ct_grenade_decoygrenade</th>\n",
              "      <th>t_grenade_decoygrenade</th>\n",
              "      <th>round_winner</th>\n",
              "    </tr>\n",
              "  </thead>\n",
              "  <tbody>\n",
              "    <tr>\n",
              "      <th>0</th>\n",
              "      <td>175.00</td>\n",
              "      <td>0.0</td>\n",
              "      <td>0.0</td>\n",
              "      <td>de_dust2</td>\n",
              "      <td>False</td>\n",
              "      <td>500.0</td>\n",
              "      <td>500.0</td>\n",
              "      <td>0.0</td>\n",
              "      <td>0.0</td>\n",
              "      <td>4000.0</td>\n",
              "      <td>4000.0</td>\n",
              "      <td>0.0</td>\n",
              "      <td>0.0</td>\n",
              "      <td>0.0</td>\n",
              "      <td>5.0</td>\n",
              "      <td>5.0</td>\n",
              "      <td>0.0</td>\n",
              "      <td>0.0</td>\n",
              "      <td>0.0</td>\n",
              "      <td>0.0</td>\n",
              "      <td>0.0</td>\n",
              "      <td>0.0</td>\n",
              "      <td>0.0</td>\n",
              "      <td>0.0</td>\n",
              "      <td>0.0</td>\n",
              "      <td>0.0</td>\n",
              "      <td>0.0</td>\n",
              "      <td>0.0</td>\n",
              "      <td>0.0</td>\n",
              "      <td>0.0</td>\n",
              "      <td>0.0</td>\n",
              "      <td>0.0</td>\n",
              "      <td>0.0</td>\n",
              "      <td>0.0</td>\n",
              "      <td>0.0</td>\n",
              "      <td>5.0</td>\n",
              "      <td>0.0</td>\n",
              "      <td>0.0</td>\n",
              "      <td>0.0</td>\n",
              "      <td>0.0</td>\n",
              "      <td>...</td>\n",
              "      <td>0.0</td>\n",
              "      <td>0.0</td>\n",
              "      <td>0.0</td>\n",
              "      <td>0.0</td>\n",
              "      <td>0.0</td>\n",
              "      <td>0.0</td>\n",
              "      <td>0.0</td>\n",
              "      <td>0.0</td>\n",
              "      <td>0.0</td>\n",
              "      <td>0.0</td>\n",
              "      <td>0.0</td>\n",
              "      <td>0.0</td>\n",
              "      <td>0.0</td>\n",
              "      <td>0.0</td>\n",
              "      <td>0.0</td>\n",
              "      <td>0.0</td>\n",
              "      <td>0.0</td>\n",
              "      <td>0.0</td>\n",
              "      <td>0.0</td>\n",
              "      <td>4.0</td>\n",
              "      <td>0.0</td>\n",
              "      <td>0.0</td>\n",
              "      <td>0.0</td>\n",
              "      <td>1.0</td>\n",
              "      <td>0.0</td>\n",
              "      <td>0.0</td>\n",
              "      <td>0.0</td>\n",
              "      <td>0.0</td>\n",
              "      <td>0.0</td>\n",
              "      <td>0.0</td>\n",
              "      <td>0.0</td>\n",
              "      <td>0.0</td>\n",
              "      <td>0.0</td>\n",
              "      <td>0.0</td>\n",
              "      <td>0.0</td>\n",
              "      <td>0.0</td>\n",
              "      <td>0.0</td>\n",
              "      <td>0.0</td>\n",
              "      <td>0.0</td>\n",
              "      <td>CT</td>\n",
              "    </tr>\n",
              "    <tr>\n",
              "      <th>1</th>\n",
              "      <td>156.03</td>\n",
              "      <td>0.0</td>\n",
              "      <td>0.0</td>\n",
              "      <td>de_dust2</td>\n",
              "      <td>False</td>\n",
              "      <td>500.0</td>\n",
              "      <td>500.0</td>\n",
              "      <td>400.0</td>\n",
              "      <td>300.0</td>\n",
              "      <td>600.0</td>\n",
              "      <td>650.0</td>\n",
              "      <td>0.0</td>\n",
              "      <td>0.0</td>\n",
              "      <td>1.0</td>\n",
              "      <td>5.0</td>\n",
              "      <td>5.0</td>\n",
              "      <td>0.0</td>\n",
              "      <td>0.0</td>\n",
              "      <td>0.0</td>\n",
              "      <td>0.0</td>\n",
              "      <td>0.0</td>\n",
              "      <td>0.0</td>\n",
              "      <td>0.0</td>\n",
              "      <td>0.0</td>\n",
              "      <td>0.0</td>\n",
              "      <td>0.0</td>\n",
              "      <td>0.0</td>\n",
              "      <td>0.0</td>\n",
              "      <td>0.0</td>\n",
              "      <td>0.0</td>\n",
              "      <td>0.0</td>\n",
              "      <td>0.0</td>\n",
              "      <td>0.0</td>\n",
              "      <td>0.0</td>\n",
              "      <td>0.0</td>\n",
              "      <td>5.0</td>\n",
              "      <td>0.0</td>\n",
              "      <td>0.0</td>\n",
              "      <td>0.0</td>\n",
              "      <td>0.0</td>\n",
              "      <td>...</td>\n",
              "      <td>0.0</td>\n",
              "      <td>0.0</td>\n",
              "      <td>0.0</td>\n",
              "      <td>0.0</td>\n",
              "      <td>0.0</td>\n",
              "      <td>0.0</td>\n",
              "      <td>0.0</td>\n",
              "      <td>0.0</td>\n",
              "      <td>0.0</td>\n",
              "      <td>0.0</td>\n",
              "      <td>0.0</td>\n",
              "      <td>0.0</td>\n",
              "      <td>0.0</td>\n",
              "      <td>0.0</td>\n",
              "      <td>0.0</td>\n",
              "      <td>0.0</td>\n",
              "      <td>0.0</td>\n",
              "      <td>0.0</td>\n",
              "      <td>0.0</td>\n",
              "      <td>4.0</td>\n",
              "      <td>0.0</td>\n",
              "      <td>0.0</td>\n",
              "      <td>0.0</td>\n",
              "      <td>1.0</td>\n",
              "      <td>0.0</td>\n",
              "      <td>0.0</td>\n",
              "      <td>0.0</td>\n",
              "      <td>0.0</td>\n",
              "      <td>0.0</td>\n",
              "      <td>0.0</td>\n",
              "      <td>0.0</td>\n",
              "      <td>0.0</td>\n",
              "      <td>2.0</td>\n",
              "      <td>0.0</td>\n",
              "      <td>0.0</td>\n",
              "      <td>0.0</td>\n",
              "      <td>0.0</td>\n",
              "      <td>0.0</td>\n",
              "      <td>0.0</td>\n",
              "      <td>CT</td>\n",
              "    </tr>\n",
              "    <tr>\n",
              "      <th>2</th>\n",
              "      <td>96.03</td>\n",
              "      <td>0.0</td>\n",
              "      <td>0.0</td>\n",
              "      <td>de_dust2</td>\n",
              "      <td>False</td>\n",
              "      <td>391.0</td>\n",
              "      <td>400.0</td>\n",
              "      <td>294.0</td>\n",
              "      <td>200.0</td>\n",
              "      <td>750.0</td>\n",
              "      <td>500.0</td>\n",
              "      <td>0.0</td>\n",
              "      <td>0.0</td>\n",
              "      <td>1.0</td>\n",
              "      <td>4.0</td>\n",
              "      <td>4.0</td>\n",
              "      <td>0.0</td>\n",
              "      <td>0.0</td>\n",
              "      <td>0.0</td>\n",
              "      <td>0.0</td>\n",
              "      <td>0.0</td>\n",
              "      <td>0.0</td>\n",
              "      <td>0.0</td>\n",
              "      <td>0.0</td>\n",
              "      <td>0.0</td>\n",
              "      <td>0.0</td>\n",
              "      <td>0.0</td>\n",
              "      <td>0.0</td>\n",
              "      <td>0.0</td>\n",
              "      <td>0.0</td>\n",
              "      <td>0.0</td>\n",
              "      <td>0.0</td>\n",
              "      <td>0.0</td>\n",
              "      <td>0.0</td>\n",
              "      <td>0.0</td>\n",
              "      <td>4.0</td>\n",
              "      <td>0.0</td>\n",
              "      <td>0.0</td>\n",
              "      <td>0.0</td>\n",
              "      <td>0.0</td>\n",
              "      <td>...</td>\n",
              "      <td>0.0</td>\n",
              "      <td>0.0</td>\n",
              "      <td>0.0</td>\n",
              "      <td>0.0</td>\n",
              "      <td>0.0</td>\n",
              "      <td>0.0</td>\n",
              "      <td>0.0</td>\n",
              "      <td>0.0</td>\n",
              "      <td>0.0</td>\n",
              "      <td>0.0</td>\n",
              "      <td>0.0</td>\n",
              "      <td>0.0</td>\n",
              "      <td>0.0</td>\n",
              "      <td>0.0</td>\n",
              "      <td>0.0</td>\n",
              "      <td>0.0</td>\n",
              "      <td>0.0</td>\n",
              "      <td>0.0</td>\n",
              "      <td>0.0</td>\n",
              "      <td>4.0</td>\n",
              "      <td>0.0</td>\n",
              "      <td>0.0</td>\n",
              "      <td>0.0</td>\n",
              "      <td>0.0</td>\n",
              "      <td>0.0</td>\n",
              "      <td>0.0</td>\n",
              "      <td>0.0</td>\n",
              "      <td>0.0</td>\n",
              "      <td>0.0</td>\n",
              "      <td>0.0</td>\n",
              "      <td>0.0</td>\n",
              "      <td>0.0</td>\n",
              "      <td>2.0</td>\n",
              "      <td>0.0</td>\n",
              "      <td>0.0</td>\n",
              "      <td>0.0</td>\n",
              "      <td>0.0</td>\n",
              "      <td>0.0</td>\n",
              "      <td>0.0</td>\n",
              "      <td>CT</td>\n",
              "    </tr>\n",
              "    <tr>\n",
              "      <th>3</th>\n",
              "      <td>76.03</td>\n",
              "      <td>0.0</td>\n",
              "      <td>0.0</td>\n",
              "      <td>de_dust2</td>\n",
              "      <td>False</td>\n",
              "      <td>391.0</td>\n",
              "      <td>400.0</td>\n",
              "      <td>294.0</td>\n",
              "      <td>200.0</td>\n",
              "      <td>750.0</td>\n",
              "      <td>500.0</td>\n",
              "      <td>0.0</td>\n",
              "      <td>0.0</td>\n",
              "      <td>1.0</td>\n",
              "      <td>4.0</td>\n",
              "      <td>4.0</td>\n",
              "      <td>0.0</td>\n",
              "      <td>0.0</td>\n",
              "      <td>0.0</td>\n",
              "      <td>0.0</td>\n",
              "      <td>0.0</td>\n",
              "      <td>0.0</td>\n",
              "      <td>0.0</td>\n",
              "      <td>0.0</td>\n",
              "      <td>0.0</td>\n",
              "      <td>0.0</td>\n",
              "      <td>0.0</td>\n",
              "      <td>0.0</td>\n",
              "      <td>0.0</td>\n",
              "      <td>0.0</td>\n",
              "      <td>0.0</td>\n",
              "      <td>0.0</td>\n",
              "      <td>0.0</td>\n",
              "      <td>0.0</td>\n",
              "      <td>0.0</td>\n",
              "      <td>3.0</td>\n",
              "      <td>0.0</td>\n",
              "      <td>0.0</td>\n",
              "      <td>0.0</td>\n",
              "      <td>0.0</td>\n",
              "      <td>...</td>\n",
              "      <td>0.0</td>\n",
              "      <td>0.0</td>\n",
              "      <td>0.0</td>\n",
              "      <td>0.0</td>\n",
              "      <td>0.0</td>\n",
              "      <td>0.0</td>\n",
              "      <td>0.0</td>\n",
              "      <td>0.0</td>\n",
              "      <td>0.0</td>\n",
              "      <td>0.0</td>\n",
              "      <td>0.0</td>\n",
              "      <td>0.0</td>\n",
              "      <td>0.0</td>\n",
              "      <td>0.0</td>\n",
              "      <td>0.0</td>\n",
              "      <td>0.0</td>\n",
              "      <td>0.0</td>\n",
              "      <td>0.0</td>\n",
              "      <td>0.0</td>\n",
              "      <td>4.0</td>\n",
              "      <td>0.0</td>\n",
              "      <td>0.0</td>\n",
              "      <td>0.0</td>\n",
              "      <td>0.0</td>\n",
              "      <td>1.0</td>\n",
              "      <td>0.0</td>\n",
              "      <td>0.0</td>\n",
              "      <td>0.0</td>\n",
              "      <td>0.0</td>\n",
              "      <td>0.0</td>\n",
              "      <td>0.0</td>\n",
              "      <td>0.0</td>\n",
              "      <td>0.0</td>\n",
              "      <td>0.0</td>\n",
              "      <td>0.0</td>\n",
              "      <td>0.0</td>\n",
              "      <td>0.0</td>\n",
              "      <td>0.0</td>\n",
              "      <td>0.0</td>\n",
              "      <td>CT</td>\n",
              "    </tr>\n",
              "    <tr>\n",
              "      <th>4</th>\n",
              "      <td>174.97</td>\n",
              "      <td>1.0</td>\n",
              "      <td>0.0</td>\n",
              "      <td>de_dust2</td>\n",
              "      <td>False</td>\n",
              "      <td>500.0</td>\n",
              "      <td>500.0</td>\n",
              "      <td>192.0</td>\n",
              "      <td>0.0</td>\n",
              "      <td>18350.0</td>\n",
              "      <td>10750.0</td>\n",
              "      <td>0.0</td>\n",
              "      <td>0.0</td>\n",
              "      <td>1.0</td>\n",
              "      <td>5.0</td>\n",
              "      <td>5.0</td>\n",
              "      <td>0.0</td>\n",
              "      <td>0.0</td>\n",
              "      <td>0.0</td>\n",
              "      <td>0.0</td>\n",
              "      <td>0.0</td>\n",
              "      <td>0.0</td>\n",
              "      <td>0.0</td>\n",
              "      <td>0.0</td>\n",
              "      <td>0.0</td>\n",
              "      <td>0.0</td>\n",
              "      <td>0.0</td>\n",
              "      <td>0.0</td>\n",
              "      <td>0.0</td>\n",
              "      <td>0.0</td>\n",
              "      <td>0.0</td>\n",
              "      <td>0.0</td>\n",
              "      <td>0.0</td>\n",
              "      <td>0.0</td>\n",
              "      <td>0.0</td>\n",
              "      <td>5.0</td>\n",
              "      <td>0.0</td>\n",
              "      <td>0.0</td>\n",
              "      <td>0.0</td>\n",
              "      <td>0.0</td>\n",
              "      <td>...</td>\n",
              "      <td>0.0</td>\n",
              "      <td>0.0</td>\n",
              "      <td>0.0</td>\n",
              "      <td>0.0</td>\n",
              "      <td>0.0</td>\n",
              "      <td>0.0</td>\n",
              "      <td>0.0</td>\n",
              "      <td>0.0</td>\n",
              "      <td>0.0</td>\n",
              "      <td>0.0</td>\n",
              "      <td>0.0</td>\n",
              "      <td>0.0</td>\n",
              "      <td>0.0</td>\n",
              "      <td>0.0</td>\n",
              "      <td>0.0</td>\n",
              "      <td>0.0</td>\n",
              "      <td>0.0</td>\n",
              "      <td>0.0</td>\n",
              "      <td>0.0</td>\n",
              "      <td>4.0</td>\n",
              "      <td>0.0</td>\n",
              "      <td>0.0</td>\n",
              "      <td>0.0</td>\n",
              "      <td>1.0</td>\n",
              "      <td>0.0</td>\n",
              "      <td>0.0</td>\n",
              "      <td>0.0</td>\n",
              "      <td>0.0</td>\n",
              "      <td>0.0</td>\n",
              "      <td>0.0</td>\n",
              "      <td>0.0</td>\n",
              "      <td>0.0</td>\n",
              "      <td>0.0</td>\n",
              "      <td>0.0</td>\n",
              "      <td>0.0</td>\n",
              "      <td>0.0</td>\n",
              "      <td>0.0</td>\n",
              "      <td>0.0</td>\n",
              "      <td>0.0</td>\n",
              "      <td>CT</td>\n",
              "    </tr>\n",
              "  </tbody>\n",
              "</table>\n",
              "<p>5 rows × 97 columns</p>\n",
              "</div>"
            ],
            "text/plain": [
              "   time_left  ct_score  ...  t_grenade_decoygrenade round_winner\n",
              "0     175.00       0.0  ...                     0.0           CT\n",
              "1     156.03       0.0  ...                     0.0           CT\n",
              "2      96.03       0.0  ...                     0.0           CT\n",
              "3      76.03       0.0  ...                     0.0           CT\n",
              "4     174.97       1.0  ...                     0.0           CT\n",
              "\n",
              "[5 rows x 97 columns]"
            ]
          },
          "metadata": {},
          "execution_count": 4
        }
      ]
    },
    {
      "cell_type": "code",
      "metadata": {
        "colab": {
          "base_uri": "https://localhost:8080/"
        },
        "id": "CTT1P8Swfvce",
        "outputId": "1a92371d-66af-4671-e7e9-7213fa23ad93"
      },
      "source": [
        "csgo_data['round_winner'].value_counts()"
      ],
      "execution_count": 5,
      "outputs": [
        {
          "output_type": "execute_result",
          "data": {
            "text/plain": [
              "T     62406\n",
              "CT    60004\n",
              "Name: round_winner, dtype: int64"
            ]
          },
          "metadata": {},
          "execution_count": 5
        }
      ]
    },
    {
      "cell_type": "code",
      "metadata": {
        "id": "WBk04FIjNbSF"
      },
      "source": [
        "csgo_data['round_winner'] = csgo_data['round_winner'].replace(['T'], 0)\n",
        "csgo_data['round_winner'] = csgo_data['round_winner'].replace(['CT'], 1)"
      ],
      "execution_count": 6,
      "outputs": []
    },
    {
      "cell_type": "code",
      "metadata": {
        "id": "PECNY0LRhfFA",
        "colab": {
          "base_uri": "https://localhost:8080/"
        },
        "outputId": "04c7f12e-b735-471f-8369-969d535ea1a9"
      },
      "source": [
        "x_csgo_data = csgo_data.iloc[:, 0:96].values\n",
        "x_csgo_data"
      ],
      "execution_count": 7,
      "outputs": [
        {
          "output_type": "execute_result",
          "data": {
            "text/plain": [
              "array([[175.0, 0.0, 0.0, ..., 0.0, 0.0, 0.0],\n",
              "       [156.03, 0.0, 0.0, ..., 0.0, 0.0, 0.0],\n",
              "       [96.03, 0.0, 0.0, ..., 0.0, 0.0, 0.0],\n",
              "       ...,\n",
              "       [114.93, 11.0, 15.0, ..., 5.0, 0.0, 0.0],\n",
              "       [94.93, 11.0, 15.0, ..., 4.0, 0.0, 0.0],\n",
              "       [74.93, 11.0, 15.0, ..., 3.0, 0.0, 0.0]], dtype=object)"
            ]
          },
          "metadata": {},
          "execution_count": 7
        }
      ]
    },
    {
      "cell_type": "code",
      "metadata": {
        "colab": {
          "base_uri": "https://localhost:8080/"
        },
        "id": "PUWOifSmrONq",
        "outputId": "60672957-aba9-42cf-f288-a824a2bf929f"
      },
      "source": [
        "y_csgo_data = csgo_data.iloc[:, 96].values\n",
        "y_csgo_data"
      ],
      "execution_count": 8,
      "outputs": [
        {
          "output_type": "execute_result",
          "data": {
            "text/plain": [
              "array([1, 1, 1, ..., 0, 0, 0])"
            ]
          },
          "metadata": {},
          "execution_count": 8
        }
      ]
    },
    {
      "cell_type": "code",
      "metadata": {
        "id": "uRMjzFnssMfH"
      },
      "source": [
        "label_encoder_map = LabelEncoder()\n",
        "label_encoder_bomb_planted = LabelEncoder()\n",
        "\n",
        "x_csgo_data[:,3] = label_encoder_map.fit_transform(x_csgo_data[:,3])\n",
        "x_csgo_data[:,4] = label_encoder_bomb_planted.fit_transform(x_csgo_data[:,4])"
      ],
      "execution_count": 9,
      "outputs": []
    },
    {
      "cell_type": "code",
      "metadata": {
        "colab": {
          "base_uri": "https://localhost:8080/"
        },
        "id": "6qJ1gWUOwcHL",
        "outputId": "041d61e1-9a6a-4097-c71b-806e89db1065"
      },
      "source": [
        "x_csgo_data"
      ],
      "execution_count": 10,
      "outputs": [
        {
          "output_type": "execute_result",
          "data": {
            "text/plain": [
              "array([[175.0, 0.0, 0.0, ..., 0.0, 0.0, 0.0],\n",
              "       [156.03, 0.0, 0.0, ..., 0.0, 0.0, 0.0],\n",
              "       [96.03, 0.0, 0.0, ..., 0.0, 0.0, 0.0],\n",
              "       ...,\n",
              "       [114.93, 11.0, 15.0, ..., 5.0, 0.0, 0.0],\n",
              "       [94.93, 11.0, 15.0, ..., 4.0, 0.0, 0.0],\n",
              "       [74.93, 11.0, 15.0, ..., 3.0, 0.0, 0.0]], dtype=object)"
            ]
          },
          "metadata": {},
          "execution_count": 10
        }
      ]
    },
    {
      "cell_type": "code",
      "metadata": {
        "id": "X4J7xe6BxYfC"
      },
      "source": [
        "x_train, x_test, y_train, y_test = train_test_split(x_csgo_data, y_csgo_data, test_size=0.33, random_state=42, shuffle=True)\n"
      ],
      "execution_count": 20,
      "outputs": []
    },
    {
      "cell_type": "markdown",
      "metadata": {
        "id": "kumpdVeD5UTm"
      },
      "source": [
        "####Salvando nossa base já configurada como um arquivo .pkl para utilizações futuras"
      ]
    },
    {
      "cell_type": "code",
      "metadata": {
        "id": "53KGFtTRNk5V"
      },
      "source": [
        "import pickle\n",
        "with open('csgo_data.pkl', 'wb') as f:\n",
        "  pickle.dump([x_csgo_data, y_csgo_data], f)"
      ],
      "execution_count": 21,
      "outputs": []
    },
    {
      "cell_type": "markdown",
      "metadata": {
        "id": "XzPBE73-0yyX"
      },
      "source": [
        "#Algoritmo Naive Bayes"
      ]
    },
    {
      "cell_type": "code",
      "metadata": {
        "colab": {
          "base_uri": "https://localhost:8080/"
        },
        "id": "925DSWknyCPT",
        "outputId": "5442aac3-f7fb-45f7-9384-afecc221b8f3"
      },
      "source": [
        "naive_csgo_data = GaussianNB()\n",
        "naive_csgo_data.fit(x_train, y_train)"
      ],
      "execution_count": 23,
      "outputs": [
        {
          "output_type": "execute_result",
          "data": {
            "text/plain": [
              "GaussianNB(priors=None, var_smoothing=1e-09)"
            ]
          },
          "metadata": {},
          "execution_count": 23
        }
      ]
    },
    {
      "cell_type": "code",
      "metadata": {
        "colab": {
          "base_uri": "https://localhost:8080/"
        },
        "id": "Y1h6CWwBl9zA",
        "outputId": "65df32d3-4f6a-42fb-ab78-296f1468d874"
      },
      "source": [
        "previsaoNB = naive_csgo_data.predict(x_test)\n",
        "previsaoNB"
      ],
      "execution_count": 34,
      "outputs": [
        {
          "output_type": "execute_result",
          "data": {
            "text/plain": [
              "array([0, 1, 1, ..., 1, 0, 1])"
            ]
          },
          "metadata": {},
          "execution_count": 34
        }
      ]
    },
    {
      "cell_type": "markdown",
      "metadata": {
        "id": "HrqtF3mO1uaL"
      },
      "source": [
        "###Analise geral Naive Bayes"
      ]
    },
    {
      "cell_type": "code",
      "metadata": {
        "colab": {
          "base_uri": "https://localhost:8080/"
        },
        "id": "dg-lpW_aPn71",
        "outputId": "59a56688-5251-4657-c5bf-76dd3220206d"
      },
      "source": [
        "print(f'Acurácia: {metrics.accuracy_score(y_test, previsaoNB)}')\n",
        "print(f'Recall: {metrics.recall_score(y_test, previsaoNB)}')\n",
        "print(f'Precisão: {metrics.precision_score(y_test, previsaoNB)}')\n",
        "print(f'F1-Score: {metrics.f1_score(y_test, previsaoNB)}')\n",
        "print('')\n",
        "print(f'Resumo: {metrics.classification_report(y_test, previsaoNB)}')"
      ],
      "execution_count": 36,
      "outputs": [
        {
          "output_type": "stream",
          "name": "stdout",
          "text": [
            "Acurácia: 0.7318298841469453\n",
            "Recall: 0.7339569503118085\n",
            "Precisão: 0.72473556140438\n",
            "F1-Score: 0.729317108518028\n",
            "\n",
            "Resumo:               precision    recall  f1-score   support\n",
            "\n",
            "           0       0.74      0.73      0.73     20512\n",
            "           1       0.72      0.73      0.73     19884\n",
            "\n",
            "    accuracy                           0.73     40396\n",
            "   macro avg       0.73      0.73      0.73     40396\n",
            "weighted avg       0.73      0.73      0.73     40396\n",
            "\n"
          ]
        }
      ]
    },
    {
      "cell_type": "markdown",
      "metadata": {
        "id": "ZbY4vrbn1-fj"
      },
      "source": [
        "#Algoritmo Árvores de Decisão"
      ]
    },
    {
      "cell_type": "code",
      "metadata": {
        "colab": {
          "base_uri": "https://localhost:8080/"
        },
        "id": "AyYyBsum2Jdp",
        "outputId": "cde8949b-985d-4dcb-baf7-6a5ac8c2bc2b"
      },
      "source": [
        "arvore_csgo_data = DecisionTreeClassifier('entropy')\n",
        "arvore_csgo_data.fit(x_train, y_train)"
      ],
      "execution_count": 16,
      "outputs": [
        {
          "output_type": "execute_result",
          "data": {
            "text/plain": [
              "DecisionTreeClassifier(ccp_alpha=0.0, class_weight=None, criterion='entropy',\n",
              "                       max_depth=None, max_features=None, max_leaf_nodes=None,\n",
              "                       min_impurity_decrease=0.0, min_impurity_split=None,\n",
              "                       min_samples_leaf=1, min_samples_split=2,\n",
              "                       min_weight_fraction_leaf=0.0, presort='deprecated',\n",
              "                       random_state=None, splitter='best')"
            ]
          },
          "metadata": {},
          "execution_count": 16
        }
      ]
    },
    {
      "cell_type": "code",
      "metadata": {
        "id": "F194eQKl2Ol3"
      },
      "source": [
        "#arvore_csgo_data.classes_\n",
        "#figura, eixos = plt.subplots(nrows=1, ncols=1, figsize=(10, 10))\n",
        "#tree.plot_tree(arvore_csgo_data, filled=True);"
      ],
      "execution_count": 30,
      "outputs": []
    },
    {
      "cell_type": "code",
      "metadata": {
        "colab": {
          "base_uri": "https://localhost:8080/"
        },
        "id": "LDYW8rfwIHId",
        "outputId": "eb34fd33-3e66-47fe-b301-ed02acf47112"
      },
      "source": [
        "previsaoTree = arvore_csgo_data.predict(x_test)\n",
        "previsaoTree"
      ],
      "execution_count": 32,
      "outputs": [
        {
          "output_type": "execute_result",
          "data": {
            "text/plain": [
              "array([1, 0, 1, ..., 1, 1, 1])"
            ]
          },
          "metadata": {},
          "execution_count": 32
        }
      ]
    },
    {
      "cell_type": "markdown",
      "metadata": {
        "id": "tKuC1EFmIkFi"
      },
      "source": [
        "###Analise geral Árvores de Decisão"
      ]
    },
    {
      "cell_type": "code",
      "metadata": {
        "colab": {
          "base_uri": "https://localhost:8080/"
        },
        "id": "Sj34nGHzIqUF",
        "outputId": "5b7b3516-10f1-495e-9154-b606e505bac0"
      },
      "source": [
        "print(f'Acurácia: {metrics.accuracy_score(y_test, previsaoTree)}')\n",
        "print(f'Recall: {metrics.recall_score(y_test, previsaoTree)}')\n",
        "print(f'Precisão: {metrics.precision_score(y_test, previsaoTree)}')\n",
        "print(f'F1-Score: {metrics.f1_score(y_test, previsaoTree)}')\n",
        "print('')\n",
        "print(f'Resumo: {metrics.classification_report(y_test, previsaoTree)}')"
      ],
      "execution_count": 39,
      "outputs": [
        {
          "output_type": "stream",
          "name": "stdout",
          "text": [
            "Acurácia: 0.813620160411922\n",
            "Recall: 0.8046167773083887\n",
            "Precisão: 0.8144886219009316\n",
            "F1-Score: 0.8095226048017811\n",
            "\n",
            "Resumo:               precision    recall  f1-score   support\n",
            "\n",
            "           0       0.81      0.82      0.82     20512\n",
            "           1       0.81      0.80      0.81     19884\n",
            "\n",
            "    accuracy                           0.81     40396\n",
            "   macro avg       0.81      0.81      0.81     40396\n",
            "weighted avg       0.81      0.81      0.81     40396\n",
            "\n"
          ]
        }
      ]
    },
    {
      "cell_type": "markdown",
      "metadata": {
        "id": "7bwxM0ieytY5"
      },
      "source": [
        "# Analise Geral\n",
        "Com base nos dados sobre o jogo CS GO que analisamos é possível calcular com uma taxa boa de sucesso qual será o possível time vencedor, e que o time \"Terrorista\", representado por 0, será o ganhador na maioria das vezes devido a diversos fatores com uma pequena diferença percentual, uma analise em tempo real seria possível, porém iria requerer a entrada de muitos dados."
      ]
    }
  ]
}