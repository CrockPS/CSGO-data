{
  "nbformat": 4,
  "nbformat_minor": 0,
  "metadata": {
    "colab": {
      "name": "CsgoData.ipynb",
      "provenance": [],
      "collapsed_sections": [
        "rTY4Eyd-1Hts",
        "3e3jceXF1PZ3",
        "XzPBE73-0yyX",
        "HrqtF3mO1uaL",
        "ZbY4vrbn1-fj",
        "tKuC1EFmIkFi",
        "C7v2AaqOC6lB",
        "3agriYk9HfsN"
      ],
      "authorship_tag": "ABX9TyMufQVHiNNLdvzkqkM0zWqn",
      "include_colab_link": true
    },
    "kernelspec": {
      "name": "python3",
      "display_name": "Python 3"
    },
    "language_info": {
      "name": "python"
    }
  },
  "cells": [
    {
      "cell_type": "markdown",
      "metadata": {
        "id": "view-in-github",
        "colab_type": "text"
      },
      "source": [
        "<a href=\"https://colab.research.google.com/github/CrockPS/CSGO-data/blob/main/CsgoData.ipynb\" target=\"_parent\"><img src=\"https://colab.research.google.com/assets/colab-badge.svg\" alt=\"Open In Colab\"/></a>"
      ]
    },
    {
      "cell_type": "markdown",
      "metadata": {
        "id": "rTY4Eyd-1Hts"
      },
      "source": [
        "#Importações"
      ]
    },
    {
      "cell_type": "code",
      "metadata": {
        "id": "7984c1XwUN2L"
      },
      "source": [
        "import pandas as pd\n",
        "import matplotlib.pyplot as plt\n",
        "from sklearn.preprocessing import LabelEncoder\n",
        "from sklearn.model_selection import train_test_split\n",
        "from sklearn import metrics\n",
        "from sklearn.naive_bayes import GaussianNB\n",
        "from sklearn.tree import DecisionTreeClassifier\n",
        "from sklearn import tree\n",
        "from sklearn.neighbors import KNeighborsClassifier\n",
        "from sklearn.svm import SVC\n",
        "import numpy as np"
      ],
      "execution_count": 3,
      "outputs": []
    },
    {
      "cell_type": "markdown",
      "metadata": {
        "id": "3e3jceXF1PZ3"
      },
      "source": [
        "#Realizando toda a configuração inicial da base incluindo divisão para treino e teste"
      ]
    },
    {
      "cell_type": "code",
      "metadata": {
        "id": "5fOUFuW5FeBf"
      },
      "source": [
        "csgo_data = pd.read_csv('/content/csgo_round_snapshots.csv')"
      ],
      "execution_count": 4,
      "outputs": []
    },
    {
      "cell_type": "code",
      "metadata": {
        "colab": {
          "base_uri": "https://localhost:8080/",
          "height": 253
        },
        "id": "1SLjkdDbFrgA",
        "outputId": "0f0e43fe-1ef5-4821-9ed8-05d0b49ede73"
      },
      "source": [
        "csgo_data.head()"
      ],
      "execution_count": 5,
      "outputs": [
        {
          "output_type": "execute_result",
          "data": {
            "text/html": [
              "<div>\n",
              "<style scoped>\n",
              "    .dataframe tbody tr th:only-of-type {\n",
              "        vertical-align: middle;\n",
              "    }\n",
              "\n",
              "    .dataframe tbody tr th {\n",
              "        vertical-align: top;\n",
              "    }\n",
              "\n",
              "    .dataframe thead th {\n",
              "        text-align: right;\n",
              "    }\n",
              "</style>\n",
              "<table border=\"1\" class=\"dataframe\">\n",
              "  <thead>\n",
              "    <tr style=\"text-align: right;\">\n",
              "      <th></th>\n",
              "      <th>time_left</th>\n",
              "      <th>ct_score</th>\n",
              "      <th>t_score</th>\n",
              "      <th>map</th>\n",
              "      <th>bomb_planted</th>\n",
              "      <th>ct_health</th>\n",
              "      <th>t_health</th>\n",
              "      <th>ct_armor</th>\n",
              "      <th>t_armor</th>\n",
              "      <th>ct_money</th>\n",
              "      <th>t_money</th>\n",
              "      <th>ct_helmets</th>\n",
              "      <th>t_helmets</th>\n",
              "      <th>ct_defuse_kits</th>\n",
              "      <th>ct_players_alive</th>\n",
              "      <th>t_players_alive</th>\n",
              "      <th>ct_weapon_ak47</th>\n",
              "      <th>t_weapon_ak47</th>\n",
              "      <th>ct_weapon_aug</th>\n",
              "      <th>t_weapon_aug</th>\n",
              "      <th>ct_weapon_awp</th>\n",
              "      <th>t_weapon_awp</th>\n",
              "      <th>ct_weapon_bizon</th>\n",
              "      <th>t_weapon_bizon</th>\n",
              "      <th>ct_weapon_cz75auto</th>\n",
              "      <th>t_weapon_cz75auto</th>\n",
              "      <th>ct_weapon_elite</th>\n",
              "      <th>t_weapon_elite</th>\n",
              "      <th>ct_weapon_famas</th>\n",
              "      <th>t_weapon_famas</th>\n",
              "      <th>ct_weapon_g3sg1</th>\n",
              "      <th>t_weapon_g3sg1</th>\n",
              "      <th>ct_weapon_galilar</th>\n",
              "      <th>t_weapon_galilar</th>\n",
              "      <th>ct_weapon_glock</th>\n",
              "      <th>t_weapon_glock</th>\n",
              "      <th>ct_weapon_m249</th>\n",
              "      <th>t_weapon_m249</th>\n",
              "      <th>ct_weapon_m4a1s</th>\n",
              "      <th>t_weapon_m4a1s</th>\n",
              "      <th>...</th>\n",
              "      <th>t_weapon_p90</th>\n",
              "      <th>ct_weapon_r8revolver</th>\n",
              "      <th>t_weapon_r8revolver</th>\n",
              "      <th>ct_weapon_sawedoff</th>\n",
              "      <th>t_weapon_sawedoff</th>\n",
              "      <th>ct_weapon_scar20</th>\n",
              "      <th>t_weapon_scar20</th>\n",
              "      <th>ct_weapon_sg553</th>\n",
              "      <th>t_weapon_sg553</th>\n",
              "      <th>ct_weapon_ssg08</th>\n",
              "      <th>t_weapon_ssg08</th>\n",
              "      <th>ct_weapon_ump45</th>\n",
              "      <th>t_weapon_ump45</th>\n",
              "      <th>ct_weapon_xm1014</th>\n",
              "      <th>t_weapon_xm1014</th>\n",
              "      <th>ct_weapon_deagle</th>\n",
              "      <th>t_weapon_deagle</th>\n",
              "      <th>ct_weapon_fiveseven</th>\n",
              "      <th>t_weapon_fiveseven</th>\n",
              "      <th>ct_weapon_usps</th>\n",
              "      <th>t_weapon_usps</th>\n",
              "      <th>ct_weapon_p250</th>\n",
              "      <th>t_weapon_p250</th>\n",
              "      <th>ct_weapon_p2000</th>\n",
              "      <th>t_weapon_p2000</th>\n",
              "      <th>ct_weapon_tec9</th>\n",
              "      <th>t_weapon_tec9</th>\n",
              "      <th>ct_grenade_hegrenade</th>\n",
              "      <th>t_grenade_hegrenade</th>\n",
              "      <th>ct_grenade_flashbang</th>\n",
              "      <th>t_grenade_flashbang</th>\n",
              "      <th>ct_grenade_smokegrenade</th>\n",
              "      <th>t_grenade_smokegrenade</th>\n",
              "      <th>ct_grenade_incendiarygrenade</th>\n",
              "      <th>t_grenade_incendiarygrenade</th>\n",
              "      <th>ct_grenade_molotovgrenade</th>\n",
              "      <th>t_grenade_molotovgrenade</th>\n",
              "      <th>ct_grenade_decoygrenade</th>\n",
              "      <th>t_grenade_decoygrenade</th>\n",
              "      <th>round_winner</th>\n",
              "    </tr>\n",
              "  </thead>\n",
              "  <tbody>\n",
              "    <tr>\n",
              "      <th>0</th>\n",
              "      <td>175.00</td>\n",
              "      <td>0.0</td>\n",
              "      <td>0.0</td>\n",
              "      <td>de_dust2</td>\n",
              "      <td>False</td>\n",
              "      <td>500.0</td>\n",
              "      <td>500.0</td>\n",
              "      <td>0.0</td>\n",
              "      <td>0.0</td>\n",
              "      <td>4000.0</td>\n",
              "      <td>4000.0</td>\n",
              "      <td>0.0</td>\n",
              "      <td>0.0</td>\n",
              "      <td>0.0</td>\n",
              "      <td>5.0</td>\n",
              "      <td>5.0</td>\n",
              "      <td>0.0</td>\n",
              "      <td>0.0</td>\n",
              "      <td>0.0</td>\n",
              "      <td>0.0</td>\n",
              "      <td>0.0</td>\n",
              "      <td>0.0</td>\n",
              "      <td>0.0</td>\n",
              "      <td>0.0</td>\n",
              "      <td>0.0</td>\n",
              "      <td>0.0</td>\n",
              "      <td>0.0</td>\n",
              "      <td>0.0</td>\n",
              "      <td>0.0</td>\n",
              "      <td>0.0</td>\n",
              "      <td>0.0</td>\n",
              "      <td>0.0</td>\n",
              "      <td>0.0</td>\n",
              "      <td>0.0</td>\n",
              "      <td>0.0</td>\n",
              "      <td>5.0</td>\n",
              "      <td>0.0</td>\n",
              "      <td>0.0</td>\n",
              "      <td>0.0</td>\n",
              "      <td>0.0</td>\n",
              "      <td>...</td>\n",
              "      <td>0.0</td>\n",
              "      <td>0.0</td>\n",
              "      <td>0.0</td>\n",
              "      <td>0.0</td>\n",
              "      <td>0.0</td>\n",
              "      <td>0.0</td>\n",
              "      <td>0.0</td>\n",
              "      <td>0.0</td>\n",
              "      <td>0.0</td>\n",
              "      <td>0.0</td>\n",
              "      <td>0.0</td>\n",
              "      <td>0.0</td>\n",
              "      <td>0.0</td>\n",
              "      <td>0.0</td>\n",
              "      <td>0.0</td>\n",
              "      <td>0.0</td>\n",
              "      <td>0.0</td>\n",
              "      <td>0.0</td>\n",
              "      <td>0.0</td>\n",
              "      <td>4.0</td>\n",
              "      <td>0.0</td>\n",
              "      <td>0.0</td>\n",
              "      <td>0.0</td>\n",
              "      <td>1.0</td>\n",
              "      <td>0.0</td>\n",
              "      <td>0.0</td>\n",
              "      <td>0.0</td>\n",
              "      <td>0.0</td>\n",
              "      <td>0.0</td>\n",
              "      <td>0.0</td>\n",
              "      <td>0.0</td>\n",
              "      <td>0.0</td>\n",
              "      <td>0.0</td>\n",
              "      <td>0.0</td>\n",
              "      <td>0.0</td>\n",
              "      <td>0.0</td>\n",
              "      <td>0.0</td>\n",
              "      <td>0.0</td>\n",
              "      <td>0.0</td>\n",
              "      <td>CT</td>\n",
              "    </tr>\n",
              "    <tr>\n",
              "      <th>1</th>\n",
              "      <td>156.03</td>\n",
              "      <td>0.0</td>\n",
              "      <td>0.0</td>\n",
              "      <td>de_dust2</td>\n",
              "      <td>False</td>\n",
              "      <td>500.0</td>\n",
              "      <td>500.0</td>\n",
              "      <td>400.0</td>\n",
              "      <td>300.0</td>\n",
              "      <td>600.0</td>\n",
              "      <td>650.0</td>\n",
              "      <td>0.0</td>\n",
              "      <td>0.0</td>\n",
              "      <td>1.0</td>\n",
              "      <td>5.0</td>\n",
              "      <td>5.0</td>\n",
              "      <td>0.0</td>\n",
              "      <td>0.0</td>\n",
              "      <td>0.0</td>\n",
              "      <td>0.0</td>\n",
              "      <td>0.0</td>\n",
              "      <td>0.0</td>\n",
              "      <td>0.0</td>\n",
              "      <td>0.0</td>\n",
              "      <td>0.0</td>\n",
              "      <td>0.0</td>\n",
              "      <td>0.0</td>\n",
              "      <td>0.0</td>\n",
              "      <td>0.0</td>\n",
              "      <td>0.0</td>\n",
              "      <td>0.0</td>\n",
              "      <td>0.0</td>\n",
              "      <td>0.0</td>\n",
              "      <td>0.0</td>\n",
              "      <td>0.0</td>\n",
              "      <td>5.0</td>\n",
              "      <td>0.0</td>\n",
              "      <td>0.0</td>\n",
              "      <td>0.0</td>\n",
              "      <td>0.0</td>\n",
              "      <td>...</td>\n",
              "      <td>0.0</td>\n",
              "      <td>0.0</td>\n",
              "      <td>0.0</td>\n",
              "      <td>0.0</td>\n",
              "      <td>0.0</td>\n",
              "      <td>0.0</td>\n",
              "      <td>0.0</td>\n",
              "      <td>0.0</td>\n",
              "      <td>0.0</td>\n",
              "      <td>0.0</td>\n",
              "      <td>0.0</td>\n",
              "      <td>0.0</td>\n",
              "      <td>0.0</td>\n",
              "      <td>0.0</td>\n",
              "      <td>0.0</td>\n",
              "      <td>0.0</td>\n",
              "      <td>0.0</td>\n",
              "      <td>0.0</td>\n",
              "      <td>0.0</td>\n",
              "      <td>4.0</td>\n",
              "      <td>0.0</td>\n",
              "      <td>0.0</td>\n",
              "      <td>0.0</td>\n",
              "      <td>1.0</td>\n",
              "      <td>0.0</td>\n",
              "      <td>0.0</td>\n",
              "      <td>0.0</td>\n",
              "      <td>0.0</td>\n",
              "      <td>0.0</td>\n",
              "      <td>0.0</td>\n",
              "      <td>0.0</td>\n",
              "      <td>0.0</td>\n",
              "      <td>2.0</td>\n",
              "      <td>0.0</td>\n",
              "      <td>0.0</td>\n",
              "      <td>0.0</td>\n",
              "      <td>0.0</td>\n",
              "      <td>0.0</td>\n",
              "      <td>0.0</td>\n",
              "      <td>CT</td>\n",
              "    </tr>\n",
              "    <tr>\n",
              "      <th>2</th>\n",
              "      <td>96.03</td>\n",
              "      <td>0.0</td>\n",
              "      <td>0.0</td>\n",
              "      <td>de_dust2</td>\n",
              "      <td>False</td>\n",
              "      <td>391.0</td>\n",
              "      <td>400.0</td>\n",
              "      <td>294.0</td>\n",
              "      <td>200.0</td>\n",
              "      <td>750.0</td>\n",
              "      <td>500.0</td>\n",
              "      <td>0.0</td>\n",
              "      <td>0.0</td>\n",
              "      <td>1.0</td>\n",
              "      <td>4.0</td>\n",
              "      <td>4.0</td>\n",
              "      <td>0.0</td>\n",
              "      <td>0.0</td>\n",
              "      <td>0.0</td>\n",
              "      <td>0.0</td>\n",
              "      <td>0.0</td>\n",
              "      <td>0.0</td>\n",
              "      <td>0.0</td>\n",
              "      <td>0.0</td>\n",
              "      <td>0.0</td>\n",
              "      <td>0.0</td>\n",
              "      <td>0.0</td>\n",
              "      <td>0.0</td>\n",
              "      <td>0.0</td>\n",
              "      <td>0.0</td>\n",
              "      <td>0.0</td>\n",
              "      <td>0.0</td>\n",
              "      <td>0.0</td>\n",
              "      <td>0.0</td>\n",
              "      <td>0.0</td>\n",
              "      <td>4.0</td>\n",
              "      <td>0.0</td>\n",
              "      <td>0.0</td>\n",
              "      <td>0.0</td>\n",
              "      <td>0.0</td>\n",
              "      <td>...</td>\n",
              "      <td>0.0</td>\n",
              "      <td>0.0</td>\n",
              "      <td>0.0</td>\n",
              "      <td>0.0</td>\n",
              "      <td>0.0</td>\n",
              "      <td>0.0</td>\n",
              "      <td>0.0</td>\n",
              "      <td>0.0</td>\n",
              "      <td>0.0</td>\n",
              "      <td>0.0</td>\n",
              "      <td>0.0</td>\n",
              "      <td>0.0</td>\n",
              "      <td>0.0</td>\n",
              "      <td>0.0</td>\n",
              "      <td>0.0</td>\n",
              "      <td>0.0</td>\n",
              "      <td>0.0</td>\n",
              "      <td>0.0</td>\n",
              "      <td>0.0</td>\n",
              "      <td>4.0</td>\n",
              "      <td>0.0</td>\n",
              "      <td>0.0</td>\n",
              "      <td>0.0</td>\n",
              "      <td>0.0</td>\n",
              "      <td>0.0</td>\n",
              "      <td>0.0</td>\n",
              "      <td>0.0</td>\n",
              "      <td>0.0</td>\n",
              "      <td>0.0</td>\n",
              "      <td>0.0</td>\n",
              "      <td>0.0</td>\n",
              "      <td>0.0</td>\n",
              "      <td>2.0</td>\n",
              "      <td>0.0</td>\n",
              "      <td>0.0</td>\n",
              "      <td>0.0</td>\n",
              "      <td>0.0</td>\n",
              "      <td>0.0</td>\n",
              "      <td>0.0</td>\n",
              "      <td>CT</td>\n",
              "    </tr>\n",
              "    <tr>\n",
              "      <th>3</th>\n",
              "      <td>76.03</td>\n",
              "      <td>0.0</td>\n",
              "      <td>0.0</td>\n",
              "      <td>de_dust2</td>\n",
              "      <td>False</td>\n",
              "      <td>391.0</td>\n",
              "      <td>400.0</td>\n",
              "      <td>294.0</td>\n",
              "      <td>200.0</td>\n",
              "      <td>750.0</td>\n",
              "      <td>500.0</td>\n",
              "      <td>0.0</td>\n",
              "      <td>0.0</td>\n",
              "      <td>1.0</td>\n",
              "      <td>4.0</td>\n",
              "      <td>4.0</td>\n",
              "      <td>0.0</td>\n",
              "      <td>0.0</td>\n",
              "      <td>0.0</td>\n",
              "      <td>0.0</td>\n",
              "      <td>0.0</td>\n",
              "      <td>0.0</td>\n",
              "      <td>0.0</td>\n",
              "      <td>0.0</td>\n",
              "      <td>0.0</td>\n",
              "      <td>0.0</td>\n",
              "      <td>0.0</td>\n",
              "      <td>0.0</td>\n",
              "      <td>0.0</td>\n",
              "      <td>0.0</td>\n",
              "      <td>0.0</td>\n",
              "      <td>0.0</td>\n",
              "      <td>0.0</td>\n",
              "      <td>0.0</td>\n",
              "      <td>0.0</td>\n",
              "      <td>3.0</td>\n",
              "      <td>0.0</td>\n",
              "      <td>0.0</td>\n",
              "      <td>0.0</td>\n",
              "      <td>0.0</td>\n",
              "      <td>...</td>\n",
              "      <td>0.0</td>\n",
              "      <td>0.0</td>\n",
              "      <td>0.0</td>\n",
              "      <td>0.0</td>\n",
              "      <td>0.0</td>\n",
              "      <td>0.0</td>\n",
              "      <td>0.0</td>\n",
              "      <td>0.0</td>\n",
              "      <td>0.0</td>\n",
              "      <td>0.0</td>\n",
              "      <td>0.0</td>\n",
              "      <td>0.0</td>\n",
              "      <td>0.0</td>\n",
              "      <td>0.0</td>\n",
              "      <td>0.0</td>\n",
              "      <td>0.0</td>\n",
              "      <td>0.0</td>\n",
              "      <td>0.0</td>\n",
              "      <td>0.0</td>\n",
              "      <td>4.0</td>\n",
              "      <td>0.0</td>\n",
              "      <td>0.0</td>\n",
              "      <td>0.0</td>\n",
              "      <td>0.0</td>\n",
              "      <td>1.0</td>\n",
              "      <td>0.0</td>\n",
              "      <td>0.0</td>\n",
              "      <td>0.0</td>\n",
              "      <td>0.0</td>\n",
              "      <td>0.0</td>\n",
              "      <td>0.0</td>\n",
              "      <td>0.0</td>\n",
              "      <td>0.0</td>\n",
              "      <td>0.0</td>\n",
              "      <td>0.0</td>\n",
              "      <td>0.0</td>\n",
              "      <td>0.0</td>\n",
              "      <td>0.0</td>\n",
              "      <td>0.0</td>\n",
              "      <td>CT</td>\n",
              "    </tr>\n",
              "    <tr>\n",
              "      <th>4</th>\n",
              "      <td>174.97</td>\n",
              "      <td>1.0</td>\n",
              "      <td>0.0</td>\n",
              "      <td>de_dust2</td>\n",
              "      <td>False</td>\n",
              "      <td>500.0</td>\n",
              "      <td>500.0</td>\n",
              "      <td>192.0</td>\n",
              "      <td>0.0</td>\n",
              "      <td>18350.0</td>\n",
              "      <td>10750.0</td>\n",
              "      <td>0.0</td>\n",
              "      <td>0.0</td>\n",
              "      <td>1.0</td>\n",
              "      <td>5.0</td>\n",
              "      <td>5.0</td>\n",
              "      <td>0.0</td>\n",
              "      <td>0.0</td>\n",
              "      <td>0.0</td>\n",
              "      <td>0.0</td>\n",
              "      <td>0.0</td>\n",
              "      <td>0.0</td>\n",
              "      <td>0.0</td>\n",
              "      <td>0.0</td>\n",
              "      <td>0.0</td>\n",
              "      <td>0.0</td>\n",
              "      <td>0.0</td>\n",
              "      <td>0.0</td>\n",
              "      <td>0.0</td>\n",
              "      <td>0.0</td>\n",
              "      <td>0.0</td>\n",
              "      <td>0.0</td>\n",
              "      <td>0.0</td>\n",
              "      <td>0.0</td>\n",
              "      <td>0.0</td>\n",
              "      <td>5.0</td>\n",
              "      <td>0.0</td>\n",
              "      <td>0.0</td>\n",
              "      <td>0.0</td>\n",
              "      <td>0.0</td>\n",
              "      <td>...</td>\n",
              "      <td>0.0</td>\n",
              "      <td>0.0</td>\n",
              "      <td>0.0</td>\n",
              "      <td>0.0</td>\n",
              "      <td>0.0</td>\n",
              "      <td>0.0</td>\n",
              "      <td>0.0</td>\n",
              "      <td>0.0</td>\n",
              "      <td>0.0</td>\n",
              "      <td>0.0</td>\n",
              "      <td>0.0</td>\n",
              "      <td>0.0</td>\n",
              "      <td>0.0</td>\n",
              "      <td>0.0</td>\n",
              "      <td>0.0</td>\n",
              "      <td>0.0</td>\n",
              "      <td>0.0</td>\n",
              "      <td>0.0</td>\n",
              "      <td>0.0</td>\n",
              "      <td>4.0</td>\n",
              "      <td>0.0</td>\n",
              "      <td>0.0</td>\n",
              "      <td>0.0</td>\n",
              "      <td>1.0</td>\n",
              "      <td>0.0</td>\n",
              "      <td>0.0</td>\n",
              "      <td>0.0</td>\n",
              "      <td>0.0</td>\n",
              "      <td>0.0</td>\n",
              "      <td>0.0</td>\n",
              "      <td>0.0</td>\n",
              "      <td>0.0</td>\n",
              "      <td>0.0</td>\n",
              "      <td>0.0</td>\n",
              "      <td>0.0</td>\n",
              "      <td>0.0</td>\n",
              "      <td>0.0</td>\n",
              "      <td>0.0</td>\n",
              "      <td>0.0</td>\n",
              "      <td>CT</td>\n",
              "    </tr>\n",
              "  </tbody>\n",
              "</table>\n",
              "<p>5 rows × 97 columns</p>\n",
              "</div>"
            ],
            "text/plain": [
              "   time_left  ct_score  ...  t_grenade_decoygrenade round_winner\n",
              "0     175.00       0.0  ...                     0.0           CT\n",
              "1     156.03       0.0  ...                     0.0           CT\n",
              "2      96.03       0.0  ...                     0.0           CT\n",
              "3      76.03       0.0  ...                     0.0           CT\n",
              "4     174.97       1.0  ...                     0.0           CT\n",
              "\n",
              "[5 rows x 97 columns]"
            ]
          },
          "metadata": {},
          "execution_count": 5
        }
      ]
    },
    {
      "cell_type": "code",
      "metadata": {
        "colab": {
          "base_uri": "https://localhost:8080/"
        },
        "id": "CTT1P8Swfvce",
        "outputId": "eec345de-181e-437b-a76a-9ea05834f835"
      },
      "source": [
        "csgo_data['round_winner'].value_counts()"
      ],
      "execution_count": 6,
      "outputs": [
        {
          "output_type": "execute_result",
          "data": {
            "text/plain": [
              "T     62406\n",
              "CT    60004\n",
              "Name: round_winner, dtype: int64"
            ]
          },
          "metadata": {},
          "execution_count": 6
        }
      ]
    },
    {
      "cell_type": "code",
      "metadata": {
        "id": "WBk04FIjNbSF"
      },
      "source": [
        "csgo_data['round_winner'] = csgo_data['round_winner'].replace(['T'], 0)\n",
        "csgo_data['round_winner'] = csgo_data['round_winner'].replace(['CT'], 1)"
      ],
      "execution_count": 7,
      "outputs": []
    },
    {
      "cell_type": "code",
      "metadata": {
        "id": "PECNY0LRhfFA",
        "colab": {
          "base_uri": "https://localhost:8080/"
        },
        "outputId": "e8e3afbe-35b0-4465-dd1f-c69da4a6e698"
      },
      "source": [
        "x_csgo_data = csgo_data.iloc[:, 0:96].values\n",
        "x_csgo_data"
      ],
      "execution_count": 8,
      "outputs": [
        {
          "output_type": "execute_result",
          "data": {
            "text/plain": [
              "array([[175.0, 0.0, 0.0, ..., 0.0, 0.0, 0.0],\n",
              "       [156.03, 0.0, 0.0, ..., 0.0, 0.0, 0.0],\n",
              "       [96.03, 0.0, 0.0, ..., 0.0, 0.0, 0.0],\n",
              "       ...,\n",
              "       [114.93, 11.0, 15.0, ..., 5.0, 0.0, 0.0],\n",
              "       [94.93, 11.0, 15.0, ..., 4.0, 0.0, 0.0],\n",
              "       [74.93, 11.0, 15.0, ..., 3.0, 0.0, 0.0]], dtype=object)"
            ]
          },
          "metadata": {},
          "execution_count": 8
        }
      ]
    },
    {
      "cell_type": "code",
      "metadata": {
        "colab": {
          "base_uri": "https://localhost:8080/"
        },
        "id": "PUWOifSmrONq",
        "outputId": "17a20180-98f1-479d-9be0-3cf60e8d93d0"
      },
      "source": [
        "y_csgo_data = csgo_data.iloc[:, 96].values\n",
        "y_csgo_data"
      ],
      "execution_count": 9,
      "outputs": [
        {
          "output_type": "execute_result",
          "data": {
            "text/plain": [
              "array([1, 1, 1, ..., 0, 0, 0])"
            ]
          },
          "metadata": {},
          "execution_count": 9
        }
      ]
    },
    {
      "cell_type": "code",
      "metadata": {
        "id": "uRMjzFnssMfH"
      },
      "source": [
        "label_encoder_map = LabelEncoder()\n",
        "label_encoder_bomb_planted = LabelEncoder()\n",
        "\n",
        "x_csgo_data[:,3] = label_encoder_map.fit_transform(x_csgo_data[:,3])\n",
        "x_csgo_data[:,4] = label_encoder_bomb_planted.fit_transform(x_csgo_data[:,4])"
      ],
      "execution_count": 10,
      "outputs": []
    },
    {
      "cell_type": "code",
      "metadata": {
        "colab": {
          "base_uri": "https://localhost:8080/"
        },
        "id": "6qJ1gWUOwcHL",
        "outputId": "b7c8560a-cde6-41fe-deb5-b4e236db9737"
      },
      "source": [
        "x_csgo_data"
      ],
      "execution_count": 11,
      "outputs": [
        {
          "output_type": "execute_result",
          "data": {
            "text/plain": [
              "array([[175.0, 0.0, 0.0, ..., 0.0, 0.0, 0.0],\n",
              "       [156.03, 0.0, 0.0, ..., 0.0, 0.0, 0.0],\n",
              "       [96.03, 0.0, 0.0, ..., 0.0, 0.0, 0.0],\n",
              "       ...,\n",
              "       [114.93, 11.0, 15.0, ..., 5.0, 0.0, 0.0],\n",
              "       [94.93, 11.0, 15.0, ..., 4.0, 0.0, 0.0],\n",
              "       [74.93, 11.0, 15.0, ..., 3.0, 0.0, 0.0]], dtype=object)"
            ]
          },
          "metadata": {},
          "execution_count": 11
        }
      ]
    },
    {
      "cell_type": "code",
      "metadata": {
        "id": "X4J7xe6BxYfC"
      },
      "source": [
        "x_train, x_test, y_train, y_test = train_test_split(x_csgo_data, y_csgo_data, test_size=0.33, random_state=42, shuffle=True)\n"
      ],
      "execution_count": 12,
      "outputs": []
    },
    {
      "cell_type": "markdown",
      "metadata": {
        "id": "kumpdVeD5UTm"
      },
      "source": [
        "####Salvando nossa base já configurada como um arquivo .pkl para utilizações futuras"
      ]
    },
    {
      "cell_type": "code",
      "metadata": {
        "id": "53KGFtTRNk5V"
      },
      "source": [
        "import pickle\n",
        "with open('csgo_data.pkl', 'wb') as f:\n",
        "  pickle.dump([x_csgo_data, y_csgo_data], f)"
      ],
      "execution_count": 13,
      "outputs": []
    },
    {
      "cell_type": "markdown",
      "metadata": {
        "id": "XzPBE73-0yyX"
      },
      "source": [
        "#Algoritmo Naive Bayes"
      ]
    },
    {
      "cell_type": "code",
      "metadata": {
        "colab": {
          "base_uri": "https://localhost:8080/"
        },
        "id": "925DSWknyCPT",
        "outputId": "4115bc61-db27-46ea-8561-992b1ac11259"
      },
      "source": [
        "naive_csgo_data = GaussianNB()\n",
        "naive_csgo_data.fit(x_train, y_train)"
      ],
      "execution_count": 14,
      "outputs": [
        {
          "output_type": "execute_result",
          "data": {
            "text/plain": [
              "GaussianNB(priors=None, var_smoothing=1e-09)"
            ]
          },
          "metadata": {},
          "execution_count": 14
        }
      ]
    },
    {
      "cell_type": "code",
      "metadata": {
        "colab": {
          "base_uri": "https://localhost:8080/"
        },
        "id": "Y1h6CWwBl9zA",
        "outputId": "bb1061de-4453-47c6-f021-b51cb85bcffb"
      },
      "source": [
        "previsaoNB = naive_csgo_data.predict(x_test)\n",
        "previsaoNB"
      ],
      "execution_count": 15,
      "outputs": [
        {
          "output_type": "execute_result",
          "data": {
            "text/plain": [
              "array([0, 1, 1, ..., 1, 0, 1])"
            ]
          },
          "metadata": {},
          "execution_count": 15
        }
      ]
    },
    {
      "cell_type": "markdown",
      "metadata": {
        "id": "HrqtF3mO1uaL"
      },
      "source": [
        "###Analise geral Naive Bayes"
      ]
    },
    {
      "cell_type": "code",
      "metadata": {
        "colab": {
          "base_uri": "https://localhost:8080/"
        },
        "id": "dg-lpW_aPn71",
        "outputId": "1318541c-d4a3-4a18-b788-a60f2c143a3f"
      },
      "source": [
        "print(f'Acurácia: {metrics.accuracy_score(y_test, previsaoNB)}')\n",
        "print(f'Recall: {metrics.recall_score(y_test, previsaoNB)}')\n",
        "print(f'Precisão: {metrics.precision_score(y_test, previsaoNB)}')\n",
        "print(f'F1-Score: {metrics.f1_score(y_test, previsaoNB)}')\n",
        "print('')\n",
        "print(f'Resumo: {metrics.classification_report(y_test, previsaoNB)}')"
      ],
      "execution_count": 16,
      "outputs": [
        {
          "output_type": "stream",
          "name": "stdout",
          "text": [
            "Acurácia: 0.7318298841469453\n",
            "Recall: 0.7339569503118085\n",
            "Precisão: 0.72473556140438\n",
            "F1-Score: 0.729317108518028\n",
            "\n",
            "Resumo:               precision    recall  f1-score   support\n",
            "\n",
            "           0       0.74      0.73      0.73     20512\n",
            "           1       0.72      0.73      0.73     19884\n",
            "\n",
            "    accuracy                           0.73     40396\n",
            "   macro avg       0.73      0.73      0.73     40396\n",
            "weighted avg       0.73      0.73      0.73     40396\n",
            "\n"
          ]
        }
      ]
    },
    {
      "cell_type": "markdown",
      "metadata": {
        "id": "ZbY4vrbn1-fj"
      },
      "source": [
        "#Algoritmo Árvores de Decisão"
      ]
    },
    {
      "cell_type": "code",
      "metadata": {
        "colab": {
          "base_uri": "https://localhost:8080/"
        },
        "id": "AyYyBsum2Jdp",
        "outputId": "ce317458-2407-430a-fdf4-b15dfb5d0eb0"
      },
      "source": [
        "arvore_csgo_data = DecisionTreeClassifier('entropy')\n",
        "arvore_csgo_data.fit(x_train, y_train)"
      ],
      "execution_count": 17,
      "outputs": [
        {
          "output_type": "execute_result",
          "data": {
            "text/plain": [
              "DecisionTreeClassifier(ccp_alpha=0.0, class_weight=None, criterion='entropy',\n",
              "                       max_depth=None, max_features=None, max_leaf_nodes=None,\n",
              "                       min_impurity_decrease=0.0, min_impurity_split=None,\n",
              "                       min_samples_leaf=1, min_samples_split=2,\n",
              "                       min_weight_fraction_leaf=0.0, presort='deprecated',\n",
              "                       random_state=None, splitter='best')"
            ]
          },
          "metadata": {},
          "execution_count": 17
        }
      ]
    },
    {
      "cell_type": "code",
      "metadata": {
        "id": "F194eQKl2Ol3"
      },
      "source": [
        "#arvore_csgo_data.classes_\n",
        "#figura, eixos = plt.subplots(nrows=1, ncols=1, figsize=(10, 10))\n",
        "#tree.plot_tree(arvore_csgo_data, filled=True);"
      ],
      "execution_count": 18,
      "outputs": []
    },
    {
      "cell_type": "code",
      "metadata": {
        "colab": {
          "base_uri": "https://localhost:8080/"
        },
        "id": "LDYW8rfwIHId",
        "outputId": "182a8d79-a4c7-4325-9e45-2b64820e5139"
      },
      "source": [
        "previsaoTree = arvore_csgo_data.predict(x_test)\n",
        "previsaoTree"
      ],
      "execution_count": 19,
      "outputs": [
        {
          "output_type": "execute_result",
          "data": {
            "text/plain": [
              "array([1, 0, 1, ..., 1, 1, 1])"
            ]
          },
          "metadata": {},
          "execution_count": 19
        }
      ]
    },
    {
      "cell_type": "markdown",
      "metadata": {
        "id": "tKuC1EFmIkFi"
      },
      "source": [
        "###Analise geral Árvores de Decisão"
      ]
    },
    {
      "cell_type": "code",
      "metadata": {
        "colab": {
          "base_uri": "https://localhost:8080/"
        },
        "id": "Sj34nGHzIqUF",
        "outputId": "26a050b1-6ed0-4546-bcc5-651e6b818e18"
      },
      "source": [
        "print(f'Acurácia: {metrics.accuracy_score(y_test, previsaoTree)}')\n",
        "print(f'Recall: {metrics.recall_score(y_test, previsaoTree)}')\n",
        "print(f'Precisão: {metrics.precision_score(y_test, previsaoTree)}')\n",
        "print(f'F1-Score: {metrics.f1_score(y_test, previsaoTree)}')\n",
        "print('')\n",
        "print(f'Resumo: {metrics.classification_report(y_test, previsaoTree)}')"
      ],
      "execution_count": 20,
      "outputs": [
        {
          "output_type": "stream",
          "name": "stdout",
          "text": [
            "Acurácia: 0.8142885434201406\n",
            "Recall: 0.8032086099376383\n",
            "Precisão: 0.8165132924335379\n",
            "F1-Score: 0.8098063076767061\n",
            "\n",
            "Resumo:               precision    recall  f1-score   support\n",
            "\n",
            "           0       0.81      0.83      0.82     20512\n",
            "           1       0.82      0.80      0.81     19884\n",
            "\n",
            "    accuracy                           0.81     40396\n",
            "   macro avg       0.81      0.81      0.81     40396\n",
            "weighted avg       0.81      0.81      0.81     40396\n",
            "\n"
          ]
        }
      ]
    },
    {
      "cell_type": "markdown",
      "metadata": {
        "id": "t_9v3xlA7z2E"
      },
      "source": [
        ""
      ]
    },
    {
      "cell_type": "markdown",
      "metadata": {
        "id": "C7v2AaqOC6lB"
      },
      "source": [
        "#Algoritmo KNN"
      ]
    },
    {
      "cell_type": "code",
      "metadata": {
        "colab": {
          "base_uri": "https://localhost:8080/"
        },
        "id": "mnxN4RN9C_VY",
        "outputId": "b39fcd81-2c23-4ba4-d073-f06a51ee358a"
      },
      "source": [
        "knn_csgo_data = KNeighborsClassifier(n_neighbors=5, metric='minkowski', p = 2)\n",
        "knn_csgo_data.fit(x_train, y_train)"
      ],
      "execution_count": 21,
      "outputs": [
        {
          "output_type": "execute_result",
          "data": {
            "text/plain": [
              "KNeighborsClassifier(algorithm='auto', leaf_size=30, metric='minkowski',\n",
              "                     metric_params=None, n_jobs=None, n_neighbors=5, p=2,\n",
              "                     weights='uniform')"
            ]
          },
          "metadata": {},
          "execution_count": 21
        }
      ]
    },
    {
      "cell_type": "code",
      "metadata": {
        "colab": {
          "base_uri": "https://localhost:8080/"
        },
        "id": "hQ_Nc5QaGm-j",
        "outputId": "5ed55f76-0211-4c06-8c37-28248696229d"
      },
      "source": [
        "previsaoKNN = knn_csgo_data.predict(x_test)\n",
        "previsaoKNN"
      ],
      "execution_count": 22,
      "outputs": [
        {
          "output_type": "execute_result",
          "data": {
            "text/plain": [
              "array([0, 1, 1, ..., 1, 1, 1])"
            ]
          },
          "metadata": {},
          "execution_count": 22
        }
      ]
    },
    {
      "cell_type": "markdown",
      "metadata": {
        "id": "3agriYk9HfsN"
      },
      "source": [
        "###Analise geral KNN"
      ]
    },
    {
      "cell_type": "code",
      "metadata": {
        "colab": {
          "base_uri": "https://localhost:8080/"
        },
        "id": "szL8svHxHi2_",
        "outputId": "b29c4042-cc36-41f0-e630-e62c0470dacd"
      },
      "source": [
        "print(f'Acurácia: {metrics.accuracy_score(y_test, previsaoKNN)}')\n",
        "print(f'Recall: {metrics.recall_score(y_test, previsaoKNN)}')\n",
        "print(f'Precisão: {metrics.precision_score(y_test, previsaoKNN)}')\n",
        "print(f'F1-Score: {metrics.f1_score(y_test, previsaoKNN)}')\n",
        "print('')\n",
        "print(f'Resumo: {metrics.classification_report(y_test, previsaoKNN)}')"
      ],
      "execution_count": 23,
      "outputs": [
        {
          "output_type": "stream",
          "name": "stdout",
          "text": [
            "Acurácia: 0.749925735221309\n",
            "Recall: 0.745876081271374\n",
            "Precisão: 0.7460261569416499\n",
            "F1-Score: 0.7459511115581934\n",
            "\n",
            "Resumo:               precision    recall  f1-score   support\n",
            "\n",
            "           0       0.75      0.75      0.75     20512\n",
            "           1       0.75      0.75      0.75     19884\n",
            "\n",
            "    accuracy                           0.75     40396\n",
            "   macro avg       0.75      0.75      0.75     40396\n",
            "weighted avg       0.75      0.75      0.75     40396\n",
            "\n"
          ]
        }
      ]
    },
    {
      "cell_type": "markdown",
      "metadata": {
        "id": "GT3vkwxqIQ5V"
      },
      "source": [
        "#Algoritmo SVM"
      ]
    },
    {
      "cell_type": "code",
      "metadata": {
        "id": "CqsKKbcBIeFS",
        "colab": {
          "base_uri": "https://localhost:8080/"
        },
        "outputId": "67ee6252-c1ab-4428-9ade-f6741cfab2d3"
      },
      "source": [
        "svm_csgo_data = SVC()\n",
        "svm_csgo_data.fit(x_train, y_train)"
      ],
      "execution_count": 26,
      "outputs": [
        {
          "output_type": "execute_result",
          "data": {
            "text/plain": [
              "SVC(C=1.0, break_ties=False, cache_size=200, class_weight=None, coef0=0.0,\n",
              "    decision_function_shape='ovr', degree=3, gamma='scale', kernel='rbf',\n",
              "    max_iter=-1, probability=False, random_state=None, shrinking=True,\n",
              "    tol=0.001, verbose=False)"
            ]
          },
          "metadata": {},
          "execution_count": 26
        }
      ]
    },
    {
      "cell_type": "code",
      "metadata": {
        "id": "UNydI0OHelWO",
        "colab": {
          "base_uri": "https://localhost:8080/"
        },
        "outputId": "03a774f0-2d66-47b7-91c7-34c210d402e2"
      },
      "source": [
        "previsaoSVM = svm_csgo_data.predict(x_test)\n",
        "previsaoSVM"
      ],
      "execution_count": 27,
      "outputs": [
        {
          "output_type": "execute_result",
          "data": {
            "text/plain": [
              "array([1, 0, 1, ..., 1, 0, 1])"
            ]
          },
          "metadata": {},
          "execution_count": 27
        }
      ]
    },
    {
      "cell_type": "markdown",
      "metadata": {
        "id": "WNYCK4ME22XC"
      },
      "source": [
        "###Analise geral SVM"
      ]
    },
    {
      "cell_type": "code",
      "metadata": {
        "id": "XKjJSan_3C9B",
        "colab": {
          "base_uri": "https://localhost:8080/"
        },
        "outputId": "7b587b92-6404-4210-fe79-36e7f214f2a7"
      },
      "source": [
        "print(f'Acurácia: {metrics.accuracy_score(y_test, previsaoSVM)}')\n",
        "print(f'Recall: {metrics.recall_score(y_test, previsaoSVM)}')\n",
        "print(f'Precisão: {metrics.precision_score(y_test, previsaoSVM)}')\n",
        "print(f'F1-Score: {metrics.f1_score(y_test, previsaoSVM)}')\n",
        "print('')\n",
        "print(f'Resumo: {metrics.classification_report(y_test, previsaoSVM)}')"
      ],
      "execution_count": 29,
      "outputs": [
        {
          "output_type": "stream",
          "name": "stdout",
          "text": [
            "Acurácia: 0.7220516882859689\n",
            "Recall: 0.7025749346208007\n",
            "Precisão: 0.7244347645716657\n",
            "F1-Score: 0.7133374183006537\n",
            "\n",
            "Resumo:               precision    recall  f1-score   support\n",
            "\n",
            "           0       0.72      0.74      0.73     20512\n",
            "           1       0.72      0.70      0.71     19884\n",
            "\n",
            "    accuracy                           0.72     40396\n",
            "   macro avg       0.72      0.72      0.72     40396\n",
            "weighted avg       0.72      0.72      0.72     40396\n",
            "\n"
          ]
        }
      ]
    },
    {
      "cell_type": "markdown",
      "metadata": {
        "id": "7bwxM0ieytY5"
      },
      "source": [
        "# Analise Geral\n",
        "Com base nos dados sobre o jogo CS GO que analisamos é possível calcular com uma taxa boa de sucesso qual será o possível time vencedor, e que o time \"Terrorista\", representado por 0, será o ganhador na maioria das vezes devido a diversos fatores com uma pequena diferença percentual, uma analise em tempo real seria possível, porém iria requerer a entrada de muitos dados.\n",
        "\n",
        "Após analisar a implementação dos 4 algoritmos é possível perceber que o tem os melhores resultados é o de 'Árvores de Decisão'\n",
        "\n",
        "*Segue abaixo os resultados dos respectivos algoritmos:*"
      ]
    },
    {
      "cell_type": "code",
      "metadata": {
        "colab": {
          "base_uri": "https://localhost:8080/"
        },
        "id": "WlhbA0JTuflh",
        "outputId": "c7ab351c-1117-4d65-ff5a-d027d19a21ca"
      },
      "source": [
        "print(f'> Acurácia:')\n",
        "print(f'---------- Naive Bayes: {metrics.accuracy_score(y_test, previsaoNB)}')\n",
        "print(f'---------- Árvores de Decisão: {metrics.accuracy_score(y_test, previsaoTree)}')\n",
        "print(f'---------- k-nearest neighbors (KNN): {metrics.accuracy_score(y_test, previsaoKNN)}')\n",
        "print(f'---------- Support vector machine (SVM): {metrics.accuracy_score(y_test, previsaoSVM)}')\n",
        "print('')\n",
        "print(f'> Recall:')\n",
        "print(f'---------- Naive Bayes: {metrics.recall_score(y_test, previsaoNB)}')\n",
        "print(f'---------- Árvores de Decisão: {metrics.recall_score(y_test, previsaoTree)}')\n",
        "print(f'---------- k-nearest neighbors (KNN): {metrics.recall_score(y_test, previsaoKNN)}')\n",
        "print(f'---------- Support vector machine (SVM): {metrics.recall_score(y_test, previsaoSVM)}')\n",
        "print('')\n",
        "print(f'> Precisão:')\n",
        "print(f'---------- Naive Bayes: {metrics.precision_score(y_test, previsaoNB)}')\n",
        "print(f'---------- Árvores de Decisão: {metrics.precision_score(y_test, previsaoTree)}')\n",
        "print(f'---------- k-nearest neighbors (KNN): {metrics.precision_score(y_test, previsaoKNN)}')\n",
        "print(f'---------- Support vector machine (SVM): {metrics.precision_score(y_test, previsaoSVM)}')\n",
        "print('')\n",
        "print(f'> F1-Score:')\n",
        "print(f'---------- Naive Bayes: {metrics.f1_score(y_test, previsaoNB)}')\n",
        "print(f'---------- Árvores de Decisão: {metrics.f1_score(y_test, previsaoTree)}')\n",
        "print(f'---------- k-nearest neighbors (KNN): {metrics.f1_score(y_test, previsaoKNN)}')\n",
        "print(f'---------- Support vector machine (SVM): {metrics.f1_score(y_test, previsaoSVM)}')\n",
        "print('')\n",
        "print(f'Resumo:')\n",
        "print('')\n",
        "print(f'---Naive Bayes:')\n",
        "print(f'{metrics.classification_report(y_test, previsaoNB)}')\n",
        "print('')\n",
        "print(f'---Árvores de Decisão:')\n",
        "print(f'{metrics.classification_report(y_test, previsaoTree)}')\n",
        "print('')\n",
        "print(f'---k-nearest neighbors (KNN):')\n",
        "print(f'{metrics.classification_report(y_test, previsaoKNN)}')\n",
        "print('')\n",
        "print(f'---Support vector machine (SVM):')\n",
        "print(f'{metrics.classification_report(y_test, previsaoSVM)}')"
      ],
      "execution_count": 37,
      "outputs": [
        {
          "output_type": "stream",
          "name": "stdout",
          "text": [
            "> Acurácia:\n",
            "---------- Naive Bayes: 0.7318298841469453\n",
            "---------- Árvores de Decisão: 0.8142885434201406\n",
            "---------- k-nearest neighbors (KNN): 0.749925735221309\n",
            "---------- Support vector machine (SVM): 0.7220516882859689\n",
            "\n",
            "> Recall:\n",
            "---------- Naive Bayes: 0.7339569503118085\n",
            "---------- Árvores de Decisão: 0.8032086099376383\n",
            "---------- k-nearest neighbors (KNN): 0.745876081271374\n",
            "---------- Support vector machine (SVM): 0.7025749346208007\n",
            "\n",
            "> Precisão:\n",
            "---------- Naive Bayes: 0.72473556140438\n",
            "---------- Árvores de Decisão: 0.8165132924335379\n",
            "---------- k-nearest neighbors (KNN): 0.7460261569416499\n",
            "---------- Support vector machine (SVM): 0.7244347645716657\n",
            "\n",
            "> F1-Score:\n",
            "---------- Naive Bayes: 0.729317108518028\n",
            "---------- Árvores de Decisão: 0.8098063076767061\n",
            "---------- k-nearest neighbors (KNN): 0.7459511115581934\n",
            "---------- Support vector machine (SVM): 0.7133374183006537\n",
            "\n",
            "Resumo:\n",
            "\n",
            "---Naive Bayes:\n",
            "              precision    recall  f1-score   support\n",
            "\n",
            "           0       0.74      0.73      0.73     20512\n",
            "           1       0.72      0.73      0.73     19884\n",
            "\n",
            "    accuracy                           0.73     40396\n",
            "   macro avg       0.73      0.73      0.73     40396\n",
            "weighted avg       0.73      0.73      0.73     40396\n",
            "\n",
            "\n",
            "---Árvores de Decisão:\n",
            "              precision    recall  f1-score   support\n",
            "\n",
            "           0       0.81      0.83      0.82     20512\n",
            "           1       0.82      0.80      0.81     19884\n",
            "\n",
            "    accuracy                           0.81     40396\n",
            "   macro avg       0.81      0.81      0.81     40396\n",
            "weighted avg       0.81      0.81      0.81     40396\n",
            "\n",
            "\n",
            "---k-nearest neighbors (KNN):\n",
            "              precision    recall  f1-score   support\n",
            "\n",
            "           0       0.75      0.75      0.75     20512\n",
            "           1       0.75      0.75      0.75     19884\n",
            "\n",
            "    accuracy                           0.75     40396\n",
            "   macro avg       0.75      0.75      0.75     40396\n",
            "weighted avg       0.75      0.75      0.75     40396\n",
            "\n",
            "\n",
            "---Support vector machine (SVM):\n",
            "              precision    recall  f1-score   support\n",
            "\n",
            "           0       0.72      0.74      0.73     20512\n",
            "           1       0.72      0.70      0.71     19884\n",
            "\n",
            "    accuracy                           0.72     40396\n",
            "   macro avg       0.72      0.72      0.72     40396\n",
            "weighted avg       0.72      0.72      0.72     40396\n",
            "\n"
          ]
        }
      ]
    }
  ]
}